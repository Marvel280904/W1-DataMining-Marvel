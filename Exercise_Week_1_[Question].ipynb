{
 "cells": [
  {
   "cell_type": "markdown",
   "metadata": {
    "id": "re8S5yd8u1eZ"
   },
   "source": [
    "<h2> Python Basics"
   ]
  },
  {
   "cell_type": "markdown",
   "metadata": {
    "id": "5H441cQou1ee"
   },
   "source": [
    "I. Cobalah print kalimat \"Hello, my name is ***nama anda***\" dengan minimal 2 cara: <br>\n",
    "a.   Print biasa (nama diletakkan langsung dalam string yang di print)<br>\n",
    "b.  Menggunakan variabel (nama disimpan dulu di variabel)<br>\n",
    "c.  Menggunakan operator dan variabel<br>\n",
    "d.  Menggunakan .format()"
   ]
  },
  {
   "cell_type": "code",
   "execution_count": 2,
   "metadata": {
    "colab": {
     "base_uri": "https://localhost:8080/"
    },
    "id": "EJlHc6Ptu1ef",
    "outputId": "f486da89-de85-4004-decd-9cb30b6c04a6"
   },
   "outputs": [
    {
     "name": "stdout",
     "output_type": "stream",
     "text": [
      "Hello, my name is Marvel\n",
      "Hello, my name is Marvel\n",
      "Hello, my name is Marvel\n",
      "Hello, my name is Marvel\n"
     ]
    }
   ],
   "source": [
    "nama = \"Marvel\"\n",
    "# 1 \n",
    "print(\"Hello, my name is Marvel\")\n",
    "# 2 \n",
    "print(\"Hello, my name is\", nama)\n",
    "# 3 \n",
    "print(\"Hello, my name is \" + nama)\n",
    "# 4 \n",
    "print(\"Hello, my name is {}\".format(nama))"
   ]
  },
  {
   "cell_type": "markdown",
   "metadata": {
    "id": "ykD_f9Cfu1eg"
   },
   "source": [
    "II. Selesaikan soal cerita berikut menggunakan python:<br>\n",
    "a.  Jose membeli 4 kotak kelereng, tiap kotak berisi 15 buah kelereng. Kelereng itu akan dibagikan kepada 12 orang temannya, setiap teman akan mendapat ... kelereng.<br>\n",
    "b.  Hasil dari 8 pangkat 1/3 adalah ...<br>\n",
    "c.  Eillen memiliki uang sebesar Rp 50.000 untuk dibelanjakan kertas binder, 1 paket kertas binder isi 100 lembar dijual seharga 7500, jika ia ingin membeli berapa kertas binder yang dapat ia beli dengan uang yang ia punya? Berapa kembalian yang diterima?"
   ]
  },
  {
   "cell_type": "code",
   "execution_count": 10,
   "metadata": {
    "id": "HZMGFAk6u1eg"
   },
   "outputs": [
    {
     "name": "stdout",
     "output_type": "stream",
     "text": [
      "a. Setiap teman akan mendapatkan 5.0 kelereng.\n",
      "b. 2.0\n",
      "c. Eillen dapat membeli 6 paket kertas binder atau 600 lembar.\n",
      "Kembalian yang diterima adalah Rp 5000.\n"
     ]
    }
   ],
   "source": [
    "# a\n",
    "kotak = 4\n",
    "isi = 15 \n",
    "teman = 12\n",
    "\n",
    "total = kotak * isi\n",
    "dapat = total / teman\n",
    "print(f\"a. Setiap teman akan mendapatkan {dapat} kelereng.\")\n",
    "\n",
    "#b \n",
    "hasil = 8 ** (1/3)\n",
    "print(f\"b. {hasil}\")\n",
    "\n",
    "#c\n",
    "uang = 50000\n",
    "hargapaket = 7500\n",
    "jumlahpaket = uang // hargapaket\n",
    "kembalian = uang % hargapaket\n",
    "totallembar = jumlahpaket * 100\n",
    "\n",
    "print(f\"c. Eillen dapat membeli {jumlahpaket} paket kertas binder atau {totallembar} lembar.\")\n",
    "print(f\"Kembalian yang diterima adalah Rp {kembalian}.\")"
   ]
  },
  {
   "cell_type": "markdown",
   "metadata": {
    "id": "ogSVphwKu1eh"
   },
   "source": [
    "III. Tunjukan cara untuk mengonversi tipe-tipe data berikut:\n",
    "\n",
    "1. \"1000\" -> 1000 (string ke int)\n",
    "2. 5.25 -> 5 (float ke int)\n",
    "3. 5 -> 5.0 (int ke float)\n",
    "4. 1000 -> \"1000\" (int ke string)\n",
    "\n",
    "Expected output:\n",
    "\n",
    "\n",
    "![image.png](data:image/png;base64,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)"
   ]
  },
  {
   "cell_type": "code",
   "execution_count": 11,
   "metadata": {
    "colab": {
     "base_uri": "https://localhost:8080/"
    },
    "id": "1380euOQu1ei",
    "outputId": "ea0e27b8-a2fe-4f32-fe9c-af88a141e339"
   },
   "outputs": [
    {
     "name": "stdout",
     "output_type": "stream",
     "text": [
      "1000 <class 'int'>\n",
      "5 <class 'int'>\n",
      "5.0 <class 'float'>\n",
      "1000 <class 'str'>\n"
     ]
    }
   ],
   "source": [
    "# 1\n",
    "string_ke_int = int(\"1000\")\n",
    "print(string_ke_int, type(string_ke_int))\n",
    "\n",
    "# 2\n",
    "float_ke_int = int(5.25)\n",
    "print(float_ke_int, type(float_ke_int))\n",
    "\n",
    "# 3\n",
    "int_ke_float = float(5)\n",
    "print(int_ke_float, type(int_ke_float))\n",
    "\n",
    "# 4\n",
    "int_ke_string = str(1000)\n",
    "print(int_ke_string, type(int_ke_string))"
   ]
  },
  {
   "cell_type": "markdown",
   "metadata": {
    "id": "DhXG-jySu1ej"
   },
   "source": [
    "IV. String\n",
    "\n",
    "\"If you want to know what a man's like, take a good look at how he treats his inferiors, not his equals.\"\n",
    "\n",
    "1. Tampilkan indeks ke 20 sampai 30 dari string di atas (indeks ke 30 ikut)\n",
    "2. Bagaimana cara memisah string berdasarkan spasi (simpan dalam list)\n",
    "3. Balik string di atas dengan menggunakan satu baris kode (menggunakan index)\n"
   ]
  },
  {
   "cell_type": "code",
   "execution_count": 13,
   "metadata": {
    "colab": {
     "base_uri": "https://localhost:8080/"
    },
    "id": "kUE0OZhIu1ek",
    "outputId": "48d3d702-9eed-4439-add7-04d5406ce928"
   },
   "outputs": [
    {
     "name": "stdout",
     "output_type": "stream",
     "text": [
      "what a man'\n",
      "['If', 'you', 'want', 'to', 'know', 'what', 'a', \"man's\", 'like,', 'take', 'a', 'good', 'look', 'at', 'how', 'he', 'treats', 'his', 'inferiors,', 'not', 'his', 'equals.']\n",
      ".slauqe sih ton ,sroirefni sih staert eh woh ta kool doog a ekat ,ekil s'nam a tahw wonk ot tnaw uoy fI\n"
     ]
    }
   ],
   "source": [
    "# Definisikan string\n",
    "quote = \"If you want to know what a man's like, take a good look at how he treats his inferiors, not his equals.\"\n",
    "\n",
    "# 1\n",
    "substring = quote[20:31]\n",
    "print(substring)\n",
    "\n",
    "# 2\n",
    "split_string = quote.split(\" \")\n",
    "print(split_string)\n",
    "\n",
    "# 3\n",
    "reversed_string = quote[::-1]\n",
    "print(reversed_string)"
   ]
  },
  {
   "cell_type": "markdown",
   "metadata": {
    "id": "PFAMzNc6u1el"
   },
   "source": [
    "<h2> Python Data Strcutures"
   ]
  },
  {
   "cell_type": "markdown",
   "metadata": {
    "id": "m9AKxWKzu1el"
   },
   "source": [
    "I. Tuple\n",
    "\n",
    "\n",
    "1.   Buatlah sebuah tuple yang berisikan nama prodi di UC, simpan dalam variabel \"Prodi\".\n",
    "2.   Cetaklah panjang tuple yang dibuat.\n",
    "3.   Gunakan .index() untuk mengetahui posisi/index prodi ISB"
   ]
  },
  {
   "cell_type": "code",
   "execution_count": 14,
   "metadata": {
    "id": "sA1w4YBcu1em"
   },
   "outputs": [
    {
     "name": "stdout",
     "output_type": "stream",
     "text": [
      "Panjang tuple: 8\n",
      "Index prodi ISB: 0\n"
     ]
    }
   ],
   "source": [
    "# 1\n",
    "Prodi = (\"ISB\", \"IBM\", \"VCD\", \"MED\", \"IMT\", \"PSY\", \"BMI\", \"FTP\")\n",
    "\n",
    "# 2\n",
    "print(\"Panjang tuple:\", len(Prodi))\n",
    "\n",
    "# 3\n",
    "index_isb = Prodi.index(\"ISB\")\n",
    "print(\"Index prodi ISB:\", index_isb)"
   ]
  },
  {
   "cell_type": "markdown",
   "metadata": {
    "id": "SiOS0ttQu1em"
   },
   "source": [
    "II. List\n",
    "\n",
    "\n",
    "1.   Buatlah sebuah list berisi 3 nama makanan kesukaanmu. Simpan dalam variabel \"favorit\".\n",
    "2.   Cetak nama setiap makanan dengan mengakses setiap elemen dalam list satu persatu.\n",
    "3. Kamu sedang berada di sebuah restoran dan hendak memesan salah satu menu yang ada dalam daftar favoritmu. Cetak setiap makanan dengan contoh: \"Aku ingin pesan {nama makanan}\"\n",
    "4.   Ternyata, salah satu menu tidak tersedia, jadi kamu perlu memesan makanan lain. Ganti makanan yang kosong dengan nama makanan baru (makanan yang mana bebas)"
   ]
  },
  {
   "cell_type": "code",
   "execution_count": 23,
   "metadata": {
    "id": "9fuI3hJ7u1en"
   },
   "outputs": [
    {
     "name": "stdout",
     "output_type": "stream",
     "text": [
      "Pizza\n",
      "Sate Ayam\n",
      "Indomie\n",
      "Aku ingin pesan Pizza\n",
      "Aku ingin pesan Sate Ayam\n",
      "Aku ingin pesan Indomie\n",
      "\n",
      "Menu setelah diganti:\n",
      "Aku ingin pesan Pizza\n",
      "Aku ingin pesan Rendang\n",
      "Aku ingin pesan Indomie\n"
     ]
    }
   ],
   "source": [
    "# 1\n",
    "favorit = [\"Pizza\", \"Sate Ayam\", \"Indomie\"]\n",
    "\n",
    "# 2\n",
    "for elemen in favorit:\n",
    "    print(elemen)\n",
    "      \n",
    "# 3\n",
    "for makanan in favorit:\n",
    "    print(f\"Aku ingin pesan {makanan}\")\n",
    "\n",
    "# 4\n",
    "favorit[1] = \"Rendang\"\n",
    "\n",
    "# Cetak ulang\n",
    "print(\"\\nMenu setelah diganti:\")\n",
    "for makanan in favorit:\n",
    "    print(f\"Aku ingin pesan {makanan}\")\n"
   ]
  },
  {
   "cell_type": "markdown",
   "metadata": {
    "id": "YWl87pecu1en"
   },
   "source": [
    "III. Set\n",
    "\n",
    "1. Buatlah 4 buah set sebagai berikut\n",
    "\n",
    "\n",
    "    set1 = {1, 2, 3, 4}\n",
    "    set2 = {2, 4, 6, 8}\n",
    "    set3 = {5, 7}\n",
    "    set4 = {2, 3}\n",
    "2. Gabungkan set1 dan set2 dengan menghilangkan duplicates\n",
    "3. Buktikan set1 dan set3 tidak mempunyai intersection (output : Boolean)\n",
    "4. Buktikan set4 adalah bagian dari set1 (output : Boolean)"
   ]
  },
  {
   "cell_type": "code",
   "execution_count": 25,
   "metadata": {
    "colab": {
     "base_uri": "https://localhost:8080/"
    },
    "id": "Qgx8YGSpu1en",
    "outputId": "2a1b2384-4d78-4702-a8f5-b7b6e3c31c3a"
   },
   "outputs": [
    {
     "name": "stdout",
     "output_type": "stream",
     "text": [
      "{1, 2, 3, 4, 6, 8}\n",
      "True\n",
      "True\n"
     ]
    }
   ],
   "source": [
    "# Membuat 4 buah set\n",
    "set1 = {1, 2, 3, 4}\n",
    "set2 = {2, 4, 6, 8}\n",
    "set3 = {5, 7}\n",
    "set4 = {2, 3}\n",
    "\n",
    "# Menggabungkan set1 dan set2 dengan menghilangkan duplicates (union)\n",
    "gabungan = set1.union(set2)\n",
    "print(gabungan)\n",
    "\n",
    "# Membuktikan set1 dan set3 tidak mempunyai intersection\n",
    "no_intersection = set1.isdisjoint(set3)\n",
    "print(no_intersection)\n",
    "\n",
    "# Membuktikan set4 adalah bagian dari set1 (subset)\n",
    "is_subset = set4.issubset(set1)\n",
    "print(is_subset)\n"
   ]
  },
  {
   "cell_type": "markdown",
   "metadata": {
    "id": "uhpPy3xWu1en"
   },
   "source": [
    "<h2> Python Programming Fundamentals"
   ]
  },
  {
   "cell_type": "markdown",
   "metadata": {
    "id": "OEgpX5aYu1eo"
   },
   "source": [
    "I. Buatlah sebuah program sederhana yang meminta inputan dari user berupa jumlah penggunaan listrik dan menghasilkan output berupa tarif yang harus dibayar dengan syarat sebagai berikut:\n",
    "\n",
    "PLN menerapkan pembayaran listrik perumahan dengan perhitungan sebagai berikut:\n",
    "* untuk golongan 1 (penggunaan <1000 kWh) tarif : Rp1000/kWh\n",
    "* untuk golongan 2 (penggunaan >= 1000 kWh) tarif : Rp2000/kWh\n",
    "\n",
    "Dengan syarat perhitungan:\n",
    "\n",
    "Minimum pembayaran adalah 100 kWh sedangkan untuk pemakaian 1000 kWh dan seterusnya tarifnya ditambah 10% dari total pembayaran.\n",
    "\n",
    "(Jika total penggunaan <100 kWh, maka akan dikenakan tarif 100 kWh)"
   ]
  },
  {
   "cell_type": "code",
   "execution_count": 26,
   "metadata": {
    "colab": {
     "base_uri": "https://localhost:8080/"
    },
    "id": "Q6vIyfIdu1eo",
    "outputId": "7bc6ab7a-842a-4693-85c3-07d44f9afec2"
   },
   "outputs": [
    {
     "name": "stdout",
     "output_type": "stream",
     "text": [
      "Masukkan jumlah penggunaan listrik (dalam kWh): 1500\n",
      "Tarif yang harus dibayar: Rp3300000.0\n"
     ]
    }
   ],
   "source": [
    "# Meminta input dari user berupa jumlah penggunaan listrik\n",
    "penggunaan = int(input(\"Masukkan jumlah penggunaan listrik (dalam kWh): \"))\n",
    "\n",
    "# Menentukan tarif minimum\n",
    "if penggunaan < 100:\n",
    "    penggunaan = 100  # Jika penggunaan kurang dari 100 kWh, dikenakan tarif 100 kWh\n",
    "\n",
    "# Menghitung tarif berdasarkan golongan\n",
    "if penggunaan < 1000:\n",
    "    tarif = penggunaan * 1000  # Tarif golongan 1\n",
    "else:\n",
    "    tarif = penggunaan * 2000  # Tarif golongan 2\n",
    "    tarif += 0.1 * tarif       # Menambahkan 10% dari total pembayaran untuk golongan 2\n",
    "\n",
    "# Menampilkan hasil perhitungan\n",
    "print(f\"Tarif yang harus dibayar: Rp{tarif}\")\n"
   ]
  },
  {
   "cell_type": "markdown",
   "metadata": {
    "id": "Bqp7xI2Nu1eo"
   },
   "source": [
    "II. Untuk Abdimas Oweek UC digunakan angkot dengan kapasitas 10 orang per angkot. Apabila terjadi kelebihan penumpang (walau hanya 1 orang), angkot yang digunakan ditambah 1. Tulislah program untuk menghitung jumlah angkot yang diperlukan bila jumlah pesertanya menggunakan input().\n",
    "\n",
    "Catatan, pastikan jika angka yang dimasukkan negatif, muncul peringatan \"Jumlah orang tidak bisa negatif!\""
   ]
  },
  {
   "cell_type": "code",
   "execution_count": 27,
   "metadata": {
    "colab": {
     "base_uri": "https://localhost:8080/"
    },
    "id": "C8thFHRbu1ep",
    "outputId": "25efe7c4-23c4-4a0f-bc45-4edf47c0581a"
   },
   "outputs": [
    {
     "name": "stdout",
     "output_type": "stream",
     "text": [
      "Masukkan jumlah peserta: 101\n",
      "Jumlah angkot yang diperlukan: 11\n"
     ]
    }
   ],
   "source": [
    "# Meminta input dari user berupa jumlah peserta\n",
    "peserta = int(input(\"Masukkan jumlah peserta: \"))\n",
    "\n",
    "# Memeriksa jika jumlah peserta negatif\n",
    "if peserta < 0:\n",
    "    print(\"Jumlah orang tidak bisa negatif!\")\n",
    "else:\n",
    "    # Menghitung jumlah angkot yang diperlukan\n",
    "    kapasitas_angkot = 10\n",
    "    angkot_diperlukan = (peserta + kapasitas_angkot - 1) // kapasitas_angkot  # Pembulatan ke atas\n",
    "\n",
    "    # Menampilkan hasil\n",
    "    print(f\"Jumlah angkot yang diperlukan: {angkot_diperlukan}\")\n"
   ]
  },
  {
   "cell_type": "markdown",
   "metadata": {
    "id": "zmpc0H2cu1ep"
   },
   "source": [
    "<h2> Numpy"
   ]
  },
  {
   "cell_type": "markdown",
   "metadata": {
    "id": "NH_6KTdZu1ep"
   },
   "source": [
    "1. Buatlah 1D numpy array berisi nama nama hari dalam satu minggu\n",
    "2. Gunakan sort untuk mengurutkan array sesuai abjad\n",
    "3. Gunakan rand untuk mengambil 1 hari dari array, cetakhlah dalam format: \"Selamat hari \\<nama hari\\> adalah hari baikmu bulan ini!\"\n",
    "4. Buatlah matriks 3x4 menggunakan numpy array berisi angka 1-6, lalu cetak shape dan dimensi array\n",
    "5. Cetaklah elemen kolom ketiga dari matrix\n",
    "\n",
    "    [[1 ,2, 3, 4],\n",
    "\n",
    "    [5, 6, 7, 8],\n",
    "\n",
    "    [9, 10, 11, 12]]\n",
    "6. Gunakan reshape untuk mengubah matrix di atas menjadi matriks berukuran (2, 6)"
   ]
  },
  {
   "cell_type": "code",
   "execution_count": 30,
   "metadata": {
    "colab": {
     "base_uri": "https://localhost:8080/"
    },
    "id": "7u2L4rYWu1ep",
    "outputId": "7fa12946-61d8-494e-f019-f6434d1d2f9a"
   },
   "outputs": [
    {
     "name": "stdout",
     "output_type": "stream",
     "text": [
      "['Senin' 'Selasa' 'Rabu' 'Kamis' 'Jumat' 'Sabtu' 'Minggu']\n"
     ]
    }
   ],
   "source": [
    "import numpy as np\n",
    "\n",
    "# 1\n",
    "hari = np.array([\"Senin\", \"Selasa\", \"Rabu\", \"Kamis\", \"Jumat\", \"Sabtu\", \"Minggu\"])\n",
    "print(hari)"
   ]
  },
  {
   "cell_type": "code",
   "execution_count": 32,
   "metadata": {
    "colab": {
     "base_uri": "https://localhost:8080/"
    },
    "id": "deanH7rbNQDz",
    "outputId": "3d98e624-6678-4eb0-fbcf-51960221056c"
   },
   "outputs": [
    {
     "name": "stdout",
     "output_type": "stream",
     "text": [
      "['Jumat' 'Kamis' 'Minggu' 'Rabu' 'Sabtu' 'Selasa' 'Senin']\n"
     ]
    }
   ],
   "source": [
    "# 2\n",
    "hari_sorted = np.sort(hari)\n",
    "print(hari_sorted)"
   ]
  },
  {
   "cell_type": "code",
   "execution_count": 34,
   "metadata": {
    "colab": {
     "base_uri": "https://localhost:8080/"
    },
    "id": "095nERxqIv_n",
    "outputId": "c6cbe027-e472-4fa3-ea6c-414410f99236"
   },
   "outputs": [
    {
     "name": "stdout",
     "output_type": "stream",
     "text": [
      "Selamat hari Rabu adalah hari baikmu bulan ini!\n"
     ]
    }
   ],
   "source": [
    "import random\n",
    "# 3\n",
    "random_hari = np.random.choice(hari)\n",
    "print(f\"Selamat hari {random_hari} adalah hari baikmu bulan ini!\")"
   ]
  },
  {
   "cell_type": "code",
   "execution_count": 35,
   "metadata": {
    "colab": {
     "base_uri": "https://localhost:8080/"
    },
    "id": "XB0SW-W1OQ7e",
    "outputId": "195af244-9619-4b15-c43b-138ad7ff15aa"
   },
   "outputs": [
    {
     "name": "stdout",
     "output_type": "stream",
     "text": [
      "\n",
      "Matrix:\n",
      "[[ 1  2  3  4]\n",
      " [ 5  6  7  8]\n",
      " [ 9 10 11 12]]\n",
      "Shape dari matrix: (3, 4)\n",
      "Dimensi dari matrix: 2\n"
     ]
    }
   ],
   "source": [
    "# 4\n",
    "matrix = np.array([[1, 2, 3, 4], [5, 6, 7, 8], [9, 10, 11, 12]])\n",
    "print(\"\\nMatrix:\")\n",
    "print(matrix)\n",
    "print(\"Shape dari matrix:\", matrix.shape)\n",
    "print(\"Dimensi dari matrix:\", matrix.ndim)"
   ]
  },
  {
   "cell_type": "code",
   "execution_count": 36,
   "metadata": {
    "colab": {
     "base_uri": "https://localhost:8080/"
    },
    "id": "vrwOkZl2Ped9",
    "outputId": "90cb3053-20ad-4252-d535-b7d68d5112d6"
   },
   "outputs": [
    {
     "name": "stdout",
     "output_type": "stream",
     "text": [
      "Elemen kolom ketiga dari matrix: [ 3  7 11]\n"
     ]
    }
   ],
   "source": [
    "# 5\n",
    "print(matrix[:, 2])"
   ]
  },
  {
   "cell_type": "code",
   "execution_count": 37,
   "metadata": {
    "colab": {
     "base_uri": "https://localhost:8080/"
    },
    "id": "2GbdDNBWSdrd",
    "outputId": "15caccdb-21cd-40cf-e250-413861b025c1"
   },
   "outputs": [
    {
     "name": "stdout",
     "output_type": "stream",
     "text": [
      "\n",
      "Matrix setelah di-reshape menjadi (2, 6):\n",
      "[[ 1  2  3  4  5  6]\n",
      " [ 7  8  9 10 11 12]]\n"
     ]
    }
   ],
   "source": [
    "# 6\n",
    "reshaped_matrix = matrix.reshape(2, 6)\n",
    "print(\"\\nMatrix setelah di-reshape menjadi (2, 6):\")\n",
    "print(reshaped_matrix)"
   ]
  },
  {
   "cell_type": "markdown",
   "metadata": {
    "id": "IJ-xiFGCu1ep"
   },
   "source": [
    "<h2> Pandas"
   ]
  },
  {
   "cell_type": "markdown",
   "metadata": {
    "id": "W1GPuTsQu1eq"
   },
   "source": [
    "1. Buatlah Pandas Series dari list [\"Information\", \"Systems\", \"for\", \"Business\"]\n",
    "2. Buatlah Pandas Dataframe dari dictionary\n",
    "{ \"brand\": \"Ford\", \"model\": \"Mustang\", \"year\": 1964 }"
   ]
  },
  {
   "cell_type": "code",
   "execution_count": 41,
   "metadata": {
    "colab": {
     "base_uri": "https://localhost:8080/",
     "height": 178
    },
    "id": "btISSDM7u1eq",
    "outputId": "1fc6f3c7-73cc-4c5e-9ee1-5062a48ff499"
   },
   "outputs": [
    {
     "name": "stdout",
     "output_type": "stream",
     "text": [
      "Pandas Series:\n",
      "0    Information\n",
      "1        Systems\n",
      "2            for\n",
      "3       Business\n",
      "dtype: object\n",
      "\n",
      "Pandas DataFrame:\n",
      "  brand    model  year\n",
      "0  Ford  Mustang  1964\n"
     ]
    }
   ],
   "source": [
    "import pandas as pd\n",
    "\n",
    "# 1\n",
    "list_data = [\"Information\", \"Systems\", \"for\", \"Business\"]\n",
    "series = pd.Series(list_data)\n",
    "print(\"Pandas Series:\")\n",
    "print(series)\n",
    "\n",
    "# 2\n",
    "data_dict = {\n",
    "    \"brand\": [\"Ford\"],\n",
    "    \"model\": [\"Mustang\"],\n",
    "    \"year\": [1964]\n",
    "}\n",
    "dataframe = pd.DataFrame(data_dict)\n",
    "print(\"\\nPandas DataFrame:\")\n",
    "print(dataframe)"
   ]
  },
  {
   "cell_type": "markdown",
   "metadata": {
    "id": "K6iLqp69u1eq"
   },
   "source": [
    "3. Import dataset berikut kedalam dataframe.    \n",
    "dataset : https://raw.githubusercontent.com/michellechandraa/TutorDataMining/main/50_Startups.csv\n",
    "4. Tunjukan kota apa saja yang ada dalam dataset tersebut\n",
    "5. Buatlah dataset baru yang menyimpan 10 row random dari dataset. Kemudian tunjukanlah 5 row pertamanya.\n",
    "6. Gunakan df.info() untuk melihat informasi singkat dari dataframe\n",
    "7. Tampilkan data 'R&D Spend' dan 'Marketing Spend' dari data yang berasal dari kota 'California'\n",
    "8. Temukan apa ada missing value dari setiap kolom\n",
    "9. Drop data yang memiliki profit di bawah 50000\n",
    "10. Urutkan Dataframe berdasarkan biaya marketing mulai dari terbesar ke terkecil"
   ]
  },
  {
   "cell_type": "code",
   "execution_count": 62,
   "metadata": {
    "colab": {
     "base_uri": "https://localhost:8080/",
     "height": 206
    },
    "id": "Zz-a6B-Au1er",
    "outputId": "b3ed8326-290e-4c50-8734-96c2aee1923a"
   },
   "outputs": [
    {
     "data": {
      "text/html": [
       "<div>\n",
       "<style scoped>\n",
       "    .dataframe tbody tr th:only-of-type {\n",
       "        vertical-align: middle;\n",
       "    }\n",
       "\n",
       "    .dataframe tbody tr th {\n",
       "        vertical-align: top;\n",
       "    }\n",
       "\n",
       "    .dataframe thead th {\n",
       "        text-align: right;\n",
       "    }\n",
       "</style>\n",
       "<table border=\"1\" class=\"dataframe\">\n",
       "  <thead>\n",
       "    <tr style=\"text-align: right;\">\n",
       "      <th></th>\n",
       "      <th>R&amp;D Spend</th>\n",
       "      <th>Administration</th>\n",
       "      <th>Marketing Spend</th>\n",
       "      <th>State</th>\n",
       "      <th>Profit</th>\n",
       "    </tr>\n",
       "  </thead>\n",
       "  <tbody>\n",
       "    <tr>\n",
       "      <th>0</th>\n",
       "      <td>165349.20</td>\n",
       "      <td>136897.80</td>\n",
       "      <td>471784.10</td>\n",
       "      <td>New York</td>\n",
       "      <td>192261.83</td>\n",
       "    </tr>\n",
       "    <tr>\n",
       "      <th>1</th>\n",
       "      <td>162597.70</td>\n",
       "      <td>151377.59</td>\n",
       "      <td>443898.53</td>\n",
       "      <td>California</td>\n",
       "      <td>191792.06</td>\n",
       "    </tr>\n",
       "    <tr>\n",
       "      <th>2</th>\n",
       "      <td>153441.51</td>\n",
       "      <td>101145.55</td>\n",
       "      <td>407934.54</td>\n",
       "      <td>Florida</td>\n",
       "      <td>191050.39</td>\n",
       "    </tr>\n",
       "    <tr>\n",
       "      <th>3</th>\n",
       "      <td>144372.41</td>\n",
       "      <td>118671.85</td>\n",
       "      <td>383199.62</td>\n",
       "      <td>New York</td>\n",
       "      <td>182901.99</td>\n",
       "    </tr>\n",
       "    <tr>\n",
       "      <th>4</th>\n",
       "      <td>142107.34</td>\n",
       "      <td>91391.77</td>\n",
       "      <td>366168.42</td>\n",
       "      <td>Florida</td>\n",
       "      <td>166187.94</td>\n",
       "    </tr>\n",
       "  </tbody>\n",
       "</table>\n",
       "</div>"
      ],
      "text/plain": [
       "   R&D Spend  Administration  Marketing Spend       State     Profit\n",
       "0  165349.20       136897.80        471784.10    New York  192261.83\n",
       "1  162597.70       151377.59        443898.53  California  191792.06\n",
       "2  153441.51       101145.55        407934.54     Florida  191050.39\n",
       "3  144372.41       118671.85        383199.62    New York  182901.99\n",
       "4  142107.34        91391.77        366168.42     Florida  166187.94"
      ]
     },
     "execution_count": 62,
     "metadata": {},
     "output_type": "execute_result"
    }
   ],
   "source": [
    "# 3\n",
    "url = \"https://raw.githubusercontent.com/michellechandraa/TutorDataMining/main/50_Startups.csv\"\n",
    "df = pd.read_csv(url)\n",
    "df.head()"
   ]
  },
  {
   "cell_type": "code",
   "execution_count": 63,
   "metadata": {
    "colab": {
     "base_uri": "https://localhost:8080/"
    },
    "id": "8hsqamWrCimw",
    "outputId": "23353b2a-dc0a-4f7d-ba86-10116a3f46ee"
   },
   "outputs": [
    {
     "name": "stdout",
     "output_type": "stream",
     "text": [
      "['New York' 'California' 'Florida']\n"
     ]
    }
   ],
   "source": [
    "# 4\n",
    "kota = df['State'].unique()\n",
    "print(kota)"
   ]
  },
  {
   "cell_type": "markdown",
   "metadata": {
    "id": "C4dYyX1Xoo1D"
   },
   "source": []
  },
  {
   "cell_type": "code",
   "execution_count": 64,
   "metadata": {
    "id": "xCcT75YOCmX3"
   },
   "outputs": [
    {
     "data": {
      "text/html": [
       "<div>\n",
       "<style scoped>\n",
       "    .dataframe tbody tr th:only-of-type {\n",
       "        vertical-align: middle;\n",
       "    }\n",
       "\n",
       "    .dataframe tbody tr th {\n",
       "        vertical-align: top;\n",
       "    }\n",
       "\n",
       "    .dataframe thead th {\n",
       "        text-align: right;\n",
       "    }\n",
       "</style>\n",
       "<table border=\"1\" class=\"dataframe\">\n",
       "  <thead>\n",
       "    <tr style=\"text-align: right;\">\n",
       "      <th></th>\n",
       "      <th>R&amp;D Spend</th>\n",
       "      <th>Administration</th>\n",
       "      <th>Marketing Spend</th>\n",
       "      <th>State</th>\n",
       "      <th>Profit</th>\n",
       "    </tr>\n",
       "  </thead>\n",
       "  <tbody>\n",
       "    <tr>\n",
       "      <th>7</th>\n",
       "      <td>130298.13</td>\n",
       "      <td>145530.06</td>\n",
       "      <td>323876.68</td>\n",
       "      <td>Florida</td>\n",
       "      <td>155752.60</td>\n",
       "    </tr>\n",
       "    <tr>\n",
       "      <th>30</th>\n",
       "      <td>61994.48</td>\n",
       "      <td>115641.28</td>\n",
       "      <td>91131.24</td>\n",
       "      <td>Florida</td>\n",
       "      <td>99937.59</td>\n",
       "    </tr>\n",
       "    <tr>\n",
       "      <th>21</th>\n",
       "      <td>78389.47</td>\n",
       "      <td>153773.43</td>\n",
       "      <td>299737.29</td>\n",
       "      <td>New York</td>\n",
       "      <td>111313.02</td>\n",
       "    </tr>\n",
       "    <tr>\n",
       "      <th>13</th>\n",
       "      <td>91992.39</td>\n",
       "      <td>135495.07</td>\n",
       "      <td>252664.93</td>\n",
       "      <td>California</td>\n",
       "      <td>134307.35</td>\n",
       "    </tr>\n",
       "    <tr>\n",
       "      <th>4</th>\n",
       "      <td>142107.34</td>\n",
       "      <td>91391.77</td>\n",
       "      <td>366168.42</td>\n",
       "      <td>Florida</td>\n",
       "      <td>166187.94</td>\n",
       "    </tr>\n",
       "  </tbody>\n",
       "</table>\n",
       "</div>"
      ],
      "text/plain": [
       "    R&D Spend  Administration  Marketing Spend       State     Profit\n",
       "7   130298.13       145530.06        323876.68     Florida  155752.60\n",
       "30   61994.48       115641.28         91131.24     Florida   99937.59\n",
       "21   78389.47       153773.43        299737.29    New York  111313.02\n",
       "13   91992.39       135495.07        252664.93  California  134307.35\n",
       "4   142107.34        91391.77        366168.42     Florida  166187.94"
      ]
     },
     "execution_count": 64,
     "metadata": {},
     "output_type": "execute_result"
    }
   ],
   "source": [
    "# 5\n",
    "df_random = df.sample(n=10)\n",
    "df_random.head()"
   ]
  },
  {
   "cell_type": "code",
   "execution_count": 65,
   "metadata": {
    "colab": {
     "base_uri": "https://localhost:8080/"
    },
    "id": "kgHgGEVoCqGR",
    "outputId": "03ef0a1d-14b5-4342-d034-c16fc4330bb4"
   },
   "outputs": [
    {
     "name": "stdout",
     "output_type": "stream",
     "text": [
      "\n",
      "Informasi singkat dari dataframe:\n",
      "<class 'pandas.core.frame.DataFrame'>\n",
      "RangeIndex: 50 entries, 0 to 49\n",
      "Data columns (total 5 columns):\n",
      " #   Column           Non-Null Count  Dtype  \n",
      "---  ------           --------------  -----  \n",
      " 0   R&D Spend        50 non-null     float64\n",
      " 1   Administration   50 non-null     float64\n",
      " 2   Marketing Spend  50 non-null     float64\n",
      " 3   State            50 non-null     object \n",
      " 4   Profit           50 non-null     float64\n",
      "dtypes: float64(4), object(1)\n",
      "memory usage: 2.1+ KB\n",
      "None\n"
     ]
    }
   ],
   "source": [
    "# 6\n",
    "print(\"\\nInformasi singkat dari dataframe:\")\n",
    "print(df.info())"
   ]
  },
  {
   "cell_type": "code",
   "execution_count": 66,
   "metadata": {
    "colab": {
     "base_uri": "https://localhost:8080/",
     "height": 582
    },
    "id": "Mc3zul5PA2TD",
    "outputId": "180df260-6caf-42a2-f82e-a21f89263219"
   },
   "outputs": [
    {
     "name": "stdout",
     "output_type": "stream",
     "text": [
      "    R&D Spend  Marketing Spend\n",
      "1   162597.70        443898.53\n",
      "6   134615.46        127716.82\n",
      "9   123334.88        304981.62\n",
      "11  100671.96        249744.55\n",
      "13   91992.39        252664.93\n",
      "16   78013.11        264346.06\n",
      "20   76253.86        298664.47\n",
      "25   64664.71        137962.62\n",
      "32   63408.86         46085.25\n",
      "34   46426.07        210797.67\n",
      "37   44069.95        197029.42\n",
      "39   38558.51        174999.30\n",
      "40   28754.33        172795.67\n",
      "42   23640.93        148001.11\n",
      "44   22177.74         28334.72\n",
      "47       0.00             0.00\n",
      "49       0.00         45173.06\n"
     ]
    }
   ],
   "source": [
    "# 7\n",
    "california_data = df[df['State'] == 'California'][['R&D Spend', 'Marketing Spend']]\n",
    "print(california_data)"
   ]
  },
  {
   "cell_type": "code",
   "execution_count": 67,
   "metadata": {
    "colab": {
     "base_uri": "https://localhost:8080/"
    },
    "id": "M1SY-gGACRy0",
    "outputId": "11db8158-14ee-484e-fd1b-93e8dcba7826"
   },
   "outputs": [
    {
     "name": "stdout",
     "output_type": "stream",
     "text": [
      "R&D Spend          0\n",
      "Administration     0\n",
      "Marketing Spend    0\n",
      "State              0\n",
      "Profit             0\n",
      "dtype: int64\n"
     ]
    }
   ],
   "source": [
    "# 8\n",
    "missing_values = df.isnull().sum()\n",
    "print(missing_values)"
   ]
  },
  {
   "cell_type": "code",
   "execution_count": 68,
   "metadata": {
    "id": "XS3SV8--CeLJ"
   },
   "outputs": [
    {
     "name": "stdout",
     "output_type": "stream",
     "text": [
      "\n",
      "Dataset setelah menghapus data dengan profit di bawah 50000:\n"
     ]
    },
    {
     "data": {
      "text/html": [
       "<div>\n",
       "<style scoped>\n",
       "    .dataframe tbody tr th:only-of-type {\n",
       "        vertical-align: middle;\n",
       "    }\n",
       "\n",
       "    .dataframe tbody tr th {\n",
       "        vertical-align: top;\n",
       "    }\n",
       "\n",
       "    .dataframe thead th {\n",
       "        text-align: right;\n",
       "    }\n",
       "</style>\n",
       "<table border=\"1\" class=\"dataframe\">\n",
       "  <thead>\n",
       "    <tr style=\"text-align: right;\">\n",
       "      <th></th>\n",
       "      <th>R&amp;D Spend</th>\n",
       "      <th>Administration</th>\n",
       "      <th>Marketing Spend</th>\n",
       "      <th>State</th>\n",
       "      <th>Profit</th>\n",
       "    </tr>\n",
       "  </thead>\n",
       "  <tbody>\n",
       "    <tr>\n",
       "      <th>0</th>\n",
       "      <td>165349.20</td>\n",
       "      <td>136897.80</td>\n",
       "      <td>471784.10</td>\n",
       "      <td>New York</td>\n",
       "      <td>192261.83</td>\n",
       "    </tr>\n",
       "    <tr>\n",
       "      <th>1</th>\n",
       "      <td>162597.70</td>\n",
       "      <td>151377.59</td>\n",
       "      <td>443898.53</td>\n",
       "      <td>California</td>\n",
       "      <td>191792.06</td>\n",
       "    </tr>\n",
       "    <tr>\n",
       "      <th>2</th>\n",
       "      <td>153441.51</td>\n",
       "      <td>101145.55</td>\n",
       "      <td>407934.54</td>\n",
       "      <td>Florida</td>\n",
       "      <td>191050.39</td>\n",
       "    </tr>\n",
       "    <tr>\n",
       "      <th>3</th>\n",
       "      <td>144372.41</td>\n",
       "      <td>118671.85</td>\n",
       "      <td>383199.62</td>\n",
       "      <td>New York</td>\n",
       "      <td>182901.99</td>\n",
       "    </tr>\n",
       "    <tr>\n",
       "      <th>4</th>\n",
       "      <td>142107.34</td>\n",
       "      <td>91391.77</td>\n",
       "      <td>366168.42</td>\n",
       "      <td>Florida</td>\n",
       "      <td>166187.94</td>\n",
       "    </tr>\n",
       "  </tbody>\n",
       "</table>\n",
       "</div>"
      ],
      "text/plain": [
       "   R&D Spend  Administration  Marketing Spend       State     Profit\n",
       "0  165349.20       136897.80        471784.10    New York  192261.83\n",
       "1  162597.70       151377.59        443898.53  California  191792.06\n",
       "2  153441.51       101145.55        407934.54     Florida  191050.39\n",
       "3  144372.41       118671.85        383199.62    New York  182901.99\n",
       "4  142107.34        91391.77        366168.42     Florida  166187.94"
      ]
     },
     "execution_count": 68,
     "metadata": {},
     "output_type": "execute_result"
    }
   ],
   "source": [
    "# 9\n",
    "df_filtered = df[df['Profit'] >= 50000]\n",
    "print(\"\\nDataset setelah menghapus data dengan profit di bawah 50000:\")\n",
    "df_filtered.head()"
   ]
  },
  {
   "cell_type": "code",
   "execution_count": 69,
   "metadata": {
    "colab": {
     "base_uri": "https://localhost:8080/",
     "height": 206
    },
    "id": "mbt-zuboEm3A",
    "outputId": "fee8ae28-6e5c-4dfe-efeb-e0bdb4117d1d"
   },
   "outputs": [
    {
     "data": {
      "text/html": [
       "<div>\n",
       "<style scoped>\n",
       "    .dataframe tbody tr th:only-of-type {\n",
       "        vertical-align: middle;\n",
       "    }\n",
       "\n",
       "    .dataframe tbody tr th {\n",
       "        vertical-align: top;\n",
       "    }\n",
       "\n",
       "    .dataframe thead th {\n",
       "        text-align: right;\n",
       "    }\n",
       "</style>\n",
       "<table border=\"1\" class=\"dataframe\">\n",
       "  <thead>\n",
       "    <tr style=\"text-align: right;\">\n",
       "      <th></th>\n",
       "      <th>R&amp;D Spend</th>\n",
       "      <th>Administration</th>\n",
       "      <th>Marketing Spend</th>\n",
       "      <th>State</th>\n",
       "      <th>Profit</th>\n",
       "    </tr>\n",
       "  </thead>\n",
       "  <tbody>\n",
       "    <tr>\n",
       "      <th>0</th>\n",
       "      <td>165349.20</td>\n",
       "      <td>136897.80</td>\n",
       "      <td>471784.10</td>\n",
       "      <td>New York</td>\n",
       "      <td>192261.83</td>\n",
       "    </tr>\n",
       "    <tr>\n",
       "      <th>1</th>\n",
       "      <td>162597.70</td>\n",
       "      <td>151377.59</td>\n",
       "      <td>443898.53</td>\n",
       "      <td>California</td>\n",
       "      <td>191792.06</td>\n",
       "    </tr>\n",
       "    <tr>\n",
       "      <th>2</th>\n",
       "      <td>153441.51</td>\n",
       "      <td>101145.55</td>\n",
       "      <td>407934.54</td>\n",
       "      <td>Florida</td>\n",
       "      <td>191050.39</td>\n",
       "    </tr>\n",
       "    <tr>\n",
       "      <th>3</th>\n",
       "      <td>144372.41</td>\n",
       "      <td>118671.85</td>\n",
       "      <td>383199.62</td>\n",
       "      <td>New York</td>\n",
       "      <td>182901.99</td>\n",
       "    </tr>\n",
       "    <tr>\n",
       "      <th>4</th>\n",
       "      <td>142107.34</td>\n",
       "      <td>91391.77</td>\n",
       "      <td>366168.42</td>\n",
       "      <td>Florida</td>\n",
       "      <td>166187.94</td>\n",
       "    </tr>\n",
       "  </tbody>\n",
       "</table>\n",
       "</div>"
      ],
      "text/plain": [
       "   R&D Spend  Administration  Marketing Spend       State     Profit\n",
       "0  165349.20       136897.80        471784.10    New York  192261.83\n",
       "1  162597.70       151377.59        443898.53  California  191792.06\n",
       "2  153441.51       101145.55        407934.54     Florida  191050.39\n",
       "3  144372.41       118671.85        383199.62    New York  182901.99\n",
       "4  142107.34        91391.77        366168.42     Florida  166187.94"
      ]
     },
     "execution_count": 69,
     "metadata": {},
     "output_type": "execute_result"
    }
   ],
   "source": [
    "# 10\n",
    "df_sorted = df.sort_values(by='Marketing Spend', ascending=False)\n",
    "df_sorted.head()"
   ]
  },
  {
   "cell_type": "markdown",
   "metadata": {
    "id": "4OfOaA0xu1er"
   },
   "source": [
    "<h2> Data Cleaning"
   ]
  },
  {
   "cell_type": "markdown",
   "metadata": {
    "id": "Krb_r6quu1es"
   },
   "source": [
    "1. Import dataset berikut ke dalam dataframe.   \n",
    "   dataset : https://raw.githubusercontent.com/michellechandraa/TutorDataMining/main/real_estate.csv\n",
    "2. Tampilkan 10 data random dari dataset di atas\n",
    "3. Cari informasi data dengan menggunakan fungsi describe\n",
    "4. Hapus kolom 'No' dan ubahlah nama kolom dalam dataframe menjadi 'transaction date', 'house age', 'distance to the nearest MRT station', 'number of convinience stores', 'latitude', 'longitude', 'house price of unit area'\n",
    "5. Cek apakah ada missing values dari masing-masing kolom"
   ]
  },
  {
   "cell_type": "code",
   "execution_count": 73,
   "metadata": {
    "colab": {
     "base_uri": "https://localhost:8080/",
     "height": 224
    },
    "id": "NAl8hGLHu1es",
    "outputId": "a7652a6c-aca9-496b-d8df-3f41895c9895"
   },
   "outputs": [
    {
     "data": {
      "text/html": [
       "<div>\n",
       "<style scoped>\n",
       "    .dataframe tbody tr th:only-of-type {\n",
       "        vertical-align: middle;\n",
       "    }\n",
       "\n",
       "    .dataframe tbody tr th {\n",
       "        vertical-align: top;\n",
       "    }\n",
       "\n",
       "    .dataframe thead th {\n",
       "        text-align: right;\n",
       "    }\n",
       "</style>\n",
       "<table border=\"1\" class=\"dataframe\">\n",
       "  <thead>\n",
       "    <tr style=\"text-align: right;\">\n",
       "      <th></th>\n",
       "      <th>No</th>\n",
       "      <th>X1 transaction date</th>\n",
       "      <th>X2 house age</th>\n",
       "      <th>X3 distance to the nearest MRT station</th>\n",
       "      <th>X4 number of convenience stores</th>\n",
       "      <th>X5 latitude</th>\n",
       "      <th>X6 longitude</th>\n",
       "      <th>Y house price of unit area</th>\n",
       "    </tr>\n",
       "  </thead>\n",
       "  <tbody>\n",
       "    <tr>\n",
       "      <th>0</th>\n",
       "      <td>1</td>\n",
       "      <td>2012.917</td>\n",
       "      <td>32.0</td>\n",
       "      <td>84.87882</td>\n",
       "      <td>10</td>\n",
       "      <td>24.98298</td>\n",
       "      <td>121.54024</td>\n",
       "      <td>37.9</td>\n",
       "    </tr>\n",
       "    <tr>\n",
       "      <th>1</th>\n",
       "      <td>2</td>\n",
       "      <td>2012.917</td>\n",
       "      <td>19.5</td>\n",
       "      <td>306.59470</td>\n",
       "      <td>9</td>\n",
       "      <td>24.98034</td>\n",
       "      <td>121.53951</td>\n",
       "      <td>42.2</td>\n",
       "    </tr>\n",
       "    <tr>\n",
       "      <th>2</th>\n",
       "      <td>3</td>\n",
       "      <td>2013.583</td>\n",
       "      <td>13.3</td>\n",
       "      <td>561.98450</td>\n",
       "      <td>5</td>\n",
       "      <td>24.98746</td>\n",
       "      <td>121.54391</td>\n",
       "      <td>47.3</td>\n",
       "    </tr>\n",
       "    <tr>\n",
       "      <th>3</th>\n",
       "      <td>4</td>\n",
       "      <td>2013.500</td>\n",
       "      <td>13.3</td>\n",
       "      <td>561.98450</td>\n",
       "      <td>5</td>\n",
       "      <td>24.98746</td>\n",
       "      <td>121.54391</td>\n",
       "      <td>54.8</td>\n",
       "    </tr>\n",
       "    <tr>\n",
       "      <th>4</th>\n",
       "      <td>5</td>\n",
       "      <td>2012.833</td>\n",
       "      <td>5.0</td>\n",
       "      <td>390.56840</td>\n",
       "      <td>5</td>\n",
       "      <td>24.97937</td>\n",
       "      <td>121.54245</td>\n",
       "      <td>43.1</td>\n",
       "    </tr>\n",
       "  </tbody>\n",
       "</table>\n",
       "</div>"
      ],
      "text/plain": [
       "   No  X1 transaction date  X2 house age  \\\n",
       "0   1             2012.917          32.0   \n",
       "1   2             2012.917          19.5   \n",
       "2   3             2013.583          13.3   \n",
       "3   4             2013.500          13.3   \n",
       "4   5             2012.833           5.0   \n",
       "\n",
       "   X3 distance to the nearest MRT station  X4 number of convenience stores  \\\n",
       "0                                84.87882                               10   \n",
       "1                               306.59470                                9   \n",
       "2                               561.98450                                5   \n",
       "3                               561.98450                                5   \n",
       "4                               390.56840                                5   \n",
       "\n",
       "   X5 latitude  X6 longitude  Y house price of unit area  \n",
       "0     24.98298     121.54024                        37.9  \n",
       "1     24.98034     121.53951                        42.2  \n",
       "2     24.98746     121.54391                        47.3  \n",
       "3     24.98746     121.54391                        54.8  \n",
       "4     24.97937     121.54245                        43.1  "
      ]
     },
     "execution_count": 73,
     "metadata": {},
     "output_type": "execute_result"
    }
   ],
   "source": [
    "# 1\n",
    "url = \"https://raw.githubusercontent.com/michellechandraa/TutorDataMining/main/real_estate.csv\"\n",
    "df = pd.read_csv(url)\n",
    "df.head()"
   ]
  },
  {
   "cell_type": "code",
   "execution_count": 74,
   "metadata": {
    "colab": {
     "base_uri": "https://localhost:8080/",
     "height": 380
    },
    "id": "YWjZAHGdFXhK",
    "outputId": "fd7cfc89-99b2-49aa-e0ff-f3ada9e4b161"
   },
   "outputs": [
    {
     "data": {
      "text/html": [
       "<div>\n",
       "<style scoped>\n",
       "    .dataframe tbody tr th:only-of-type {\n",
       "        vertical-align: middle;\n",
       "    }\n",
       "\n",
       "    .dataframe tbody tr th {\n",
       "        vertical-align: top;\n",
       "    }\n",
       "\n",
       "    .dataframe thead th {\n",
       "        text-align: right;\n",
       "    }\n",
       "</style>\n",
       "<table border=\"1\" class=\"dataframe\">\n",
       "  <thead>\n",
       "    <tr style=\"text-align: right;\">\n",
       "      <th></th>\n",
       "      <th>No</th>\n",
       "      <th>X1 transaction date</th>\n",
       "      <th>X2 house age</th>\n",
       "      <th>X3 distance to the nearest MRT station</th>\n",
       "      <th>X4 number of convenience stores</th>\n",
       "      <th>X5 latitude</th>\n",
       "      <th>X6 longitude</th>\n",
       "      <th>Y house price of unit area</th>\n",
       "    </tr>\n",
       "  </thead>\n",
       "  <tbody>\n",
       "    <tr>\n",
       "      <th>96</th>\n",
       "      <td>97</td>\n",
       "      <td>2013.417</td>\n",
       "      <td>6.4</td>\n",
       "      <td>90.45606</td>\n",
       "      <td>9</td>\n",
       "      <td>24.97433</td>\n",
       "      <td>121.54310</td>\n",
       "      <td>59.5</td>\n",
       "    </tr>\n",
       "    <tr>\n",
       "      <th>411</th>\n",
       "      <td>412</td>\n",
       "      <td>2013.250</td>\n",
       "      <td>18.8</td>\n",
       "      <td>390.96960</td>\n",
       "      <td>7</td>\n",
       "      <td>24.97923</td>\n",
       "      <td>121.53986</td>\n",
       "      <td>40.6</td>\n",
       "    </tr>\n",
       "    <tr>\n",
       "      <th>251</th>\n",
       "      <td>252</td>\n",
       "      <td>2012.917</td>\n",
       "      <td>31.7</td>\n",
       "      <td>1159.45400</td>\n",
       "      <td>0</td>\n",
       "      <td>24.94960</td>\n",
       "      <td>121.53018</td>\n",
       "      <td>13.8</td>\n",
       "    </tr>\n",
       "    <tr>\n",
       "      <th>289</th>\n",
       "      <td>290</td>\n",
       "      <td>2013.333</td>\n",
       "      <td>13.9</td>\n",
       "      <td>289.32480</td>\n",
       "      <td>5</td>\n",
       "      <td>24.98203</td>\n",
       "      <td>121.54348</td>\n",
       "      <td>44.5</td>\n",
       "    </tr>\n",
       "    <tr>\n",
       "      <th>355</th>\n",
       "      <td>356</td>\n",
       "      <td>2013.250</td>\n",
       "      <td>3.8</td>\n",
       "      <td>383.86240</td>\n",
       "      <td>5</td>\n",
       "      <td>24.98085</td>\n",
       "      <td>121.54391</td>\n",
       "      <td>60.7</td>\n",
       "    </tr>\n",
       "    <tr>\n",
       "      <th>293</th>\n",
       "      <td>294</td>\n",
       "      <td>2012.667</td>\n",
       "      <td>12.6</td>\n",
       "      <td>383.28050</td>\n",
       "      <td>7</td>\n",
       "      <td>24.96735</td>\n",
       "      <td>121.54464</td>\n",
       "      <td>42.5</td>\n",
       "    </tr>\n",
       "    <tr>\n",
       "      <th>43</th>\n",
       "      <td>44</td>\n",
       "      <td>2012.750</td>\n",
       "      <td>34.4</td>\n",
       "      <td>512.78710</td>\n",
       "      <td>6</td>\n",
       "      <td>24.98748</td>\n",
       "      <td>121.54301</td>\n",
       "      <td>34.1</td>\n",
       "    </tr>\n",
       "    <tr>\n",
       "      <th>212</th>\n",
       "      <td>213</td>\n",
       "      <td>2013.333</td>\n",
       "      <td>17.6</td>\n",
       "      <td>1805.66500</td>\n",
       "      <td>2</td>\n",
       "      <td>24.98672</td>\n",
       "      <td>121.52091</td>\n",
       "      <td>31.1</td>\n",
       "    </tr>\n",
       "    <tr>\n",
       "      <th>117</th>\n",
       "      <td>118</td>\n",
       "      <td>2013.000</td>\n",
       "      <td>13.6</td>\n",
       "      <td>4197.34900</td>\n",
       "      <td>0</td>\n",
       "      <td>24.93885</td>\n",
       "      <td>121.50383</td>\n",
       "      <td>13.0</td>\n",
       "    </tr>\n",
       "    <tr>\n",
       "      <th>361</th>\n",
       "      <td>362</td>\n",
       "      <td>2013.083</td>\n",
       "      <td>41.4</td>\n",
       "      <td>281.20500</td>\n",
       "      <td>8</td>\n",
       "      <td>24.97345</td>\n",
       "      <td>121.54093</td>\n",
       "      <td>63.3</td>\n",
       "    </tr>\n",
       "  </tbody>\n",
       "</table>\n",
       "</div>"
      ],
      "text/plain": [
       "      No  X1 transaction date  X2 house age  \\\n",
       "96    97             2013.417           6.4   \n",
       "411  412             2013.250          18.8   \n",
       "251  252             2012.917          31.7   \n",
       "289  290             2013.333          13.9   \n",
       "355  356             2013.250           3.8   \n",
       "293  294             2012.667          12.6   \n",
       "43    44             2012.750          34.4   \n",
       "212  213             2013.333          17.6   \n",
       "117  118             2013.000          13.6   \n",
       "361  362             2013.083          41.4   \n",
       "\n",
       "     X3 distance to the nearest MRT station  X4 number of convenience stores  \\\n",
       "96                                 90.45606                                9   \n",
       "411                               390.96960                                7   \n",
       "251                              1159.45400                                0   \n",
       "289                               289.32480                                5   \n",
       "355                               383.86240                                5   \n",
       "293                               383.28050                                7   \n",
       "43                                512.78710                                6   \n",
       "212                              1805.66500                                2   \n",
       "117                              4197.34900                                0   \n",
       "361                               281.20500                                8   \n",
       "\n",
       "     X5 latitude  X6 longitude  Y house price of unit area  \n",
       "96      24.97433     121.54310                        59.5  \n",
       "411     24.97923     121.53986                        40.6  \n",
       "251     24.94960     121.53018                        13.8  \n",
       "289     24.98203     121.54348                        44.5  \n",
       "355     24.98085     121.54391                        60.7  \n",
       "293     24.96735     121.54464                        42.5  \n",
       "43      24.98748     121.54301                        34.1  \n",
       "212     24.98672     121.52091                        31.1  \n",
       "117     24.93885     121.50383                        13.0  \n",
       "361     24.97345     121.54093                        63.3  "
      ]
     },
     "execution_count": 74,
     "metadata": {},
     "output_type": "execute_result"
    }
   ],
   "source": [
    "# 2\n",
    "df.sample(10)"
   ]
  },
  {
   "cell_type": "code",
   "execution_count": 75,
   "metadata": {
    "colab": {
     "base_uri": "https://localhost:8080/",
     "height": 318
    },
    "id": "WYXICVmkFgAo",
    "outputId": "865a4c7c-da4f-4e1d-d2fd-cc131df30e8d"
   },
   "outputs": [
    {
     "data": {
      "text/html": [
       "<div>\n",
       "<style scoped>\n",
       "    .dataframe tbody tr th:only-of-type {\n",
       "        vertical-align: middle;\n",
       "    }\n",
       "\n",
       "    .dataframe tbody tr th {\n",
       "        vertical-align: top;\n",
       "    }\n",
       "\n",
       "    .dataframe thead th {\n",
       "        text-align: right;\n",
       "    }\n",
       "</style>\n",
       "<table border=\"1\" class=\"dataframe\">\n",
       "  <thead>\n",
       "    <tr style=\"text-align: right;\">\n",
       "      <th></th>\n",
       "      <th>No</th>\n",
       "      <th>X1 transaction date</th>\n",
       "      <th>X2 house age</th>\n",
       "      <th>X3 distance to the nearest MRT station</th>\n",
       "      <th>X4 number of convenience stores</th>\n",
       "      <th>X5 latitude</th>\n",
       "      <th>X6 longitude</th>\n",
       "      <th>Y house price of unit area</th>\n",
       "    </tr>\n",
       "  </thead>\n",
       "  <tbody>\n",
       "    <tr>\n",
       "      <th>count</th>\n",
       "      <td>414.000000</td>\n",
       "      <td>414.000000</td>\n",
       "      <td>414.000000</td>\n",
       "      <td>414.000000</td>\n",
       "      <td>414.000000</td>\n",
       "      <td>414.000000</td>\n",
       "      <td>414.000000</td>\n",
       "      <td>414.000000</td>\n",
       "    </tr>\n",
       "    <tr>\n",
       "      <th>mean</th>\n",
       "      <td>207.500000</td>\n",
       "      <td>2013.148971</td>\n",
       "      <td>17.712560</td>\n",
       "      <td>1083.885689</td>\n",
       "      <td>4.094203</td>\n",
       "      <td>24.969030</td>\n",
       "      <td>121.533361</td>\n",
       "      <td>37.980193</td>\n",
       "    </tr>\n",
       "    <tr>\n",
       "      <th>std</th>\n",
       "      <td>119.655756</td>\n",
       "      <td>0.281967</td>\n",
       "      <td>11.392485</td>\n",
       "      <td>1262.109595</td>\n",
       "      <td>2.945562</td>\n",
       "      <td>0.012410</td>\n",
       "      <td>0.015347</td>\n",
       "      <td>13.606488</td>\n",
       "    </tr>\n",
       "    <tr>\n",
       "      <th>min</th>\n",
       "      <td>1.000000</td>\n",
       "      <td>2012.667000</td>\n",
       "      <td>0.000000</td>\n",
       "      <td>23.382840</td>\n",
       "      <td>0.000000</td>\n",
       "      <td>24.932070</td>\n",
       "      <td>121.473530</td>\n",
       "      <td>7.600000</td>\n",
       "    </tr>\n",
       "    <tr>\n",
       "      <th>25%</th>\n",
       "      <td>104.250000</td>\n",
       "      <td>2012.917000</td>\n",
       "      <td>9.025000</td>\n",
       "      <td>289.324800</td>\n",
       "      <td>1.000000</td>\n",
       "      <td>24.963000</td>\n",
       "      <td>121.528085</td>\n",
       "      <td>27.700000</td>\n",
       "    </tr>\n",
       "    <tr>\n",
       "      <th>50%</th>\n",
       "      <td>207.500000</td>\n",
       "      <td>2013.167000</td>\n",
       "      <td>16.100000</td>\n",
       "      <td>492.231300</td>\n",
       "      <td>4.000000</td>\n",
       "      <td>24.971100</td>\n",
       "      <td>121.538630</td>\n",
       "      <td>38.450000</td>\n",
       "    </tr>\n",
       "    <tr>\n",
       "      <th>75%</th>\n",
       "      <td>310.750000</td>\n",
       "      <td>2013.417000</td>\n",
       "      <td>28.150000</td>\n",
       "      <td>1454.279000</td>\n",
       "      <td>6.000000</td>\n",
       "      <td>24.977455</td>\n",
       "      <td>121.543305</td>\n",
       "      <td>46.600000</td>\n",
       "    </tr>\n",
       "    <tr>\n",
       "      <th>max</th>\n",
       "      <td>414.000000</td>\n",
       "      <td>2013.583000</td>\n",
       "      <td>43.800000</td>\n",
       "      <td>6488.021000</td>\n",
       "      <td>10.000000</td>\n",
       "      <td>25.014590</td>\n",
       "      <td>121.566270</td>\n",
       "      <td>117.500000</td>\n",
       "    </tr>\n",
       "  </tbody>\n",
       "</table>\n",
       "</div>"
      ],
      "text/plain": [
       "               No  X1 transaction date  X2 house age  \\\n",
       "count  414.000000           414.000000    414.000000   \n",
       "mean   207.500000          2013.148971     17.712560   \n",
       "std    119.655756             0.281967     11.392485   \n",
       "min      1.000000          2012.667000      0.000000   \n",
       "25%    104.250000          2012.917000      9.025000   \n",
       "50%    207.500000          2013.167000     16.100000   \n",
       "75%    310.750000          2013.417000     28.150000   \n",
       "max    414.000000          2013.583000     43.800000   \n",
       "\n",
       "       X3 distance to the nearest MRT station  \\\n",
       "count                              414.000000   \n",
       "mean                              1083.885689   \n",
       "std                               1262.109595   \n",
       "min                                 23.382840   \n",
       "25%                                289.324800   \n",
       "50%                                492.231300   \n",
       "75%                               1454.279000   \n",
       "max                               6488.021000   \n",
       "\n",
       "       X4 number of convenience stores  X5 latitude  X6 longitude  \\\n",
       "count                       414.000000   414.000000    414.000000   \n",
       "mean                          4.094203    24.969030    121.533361   \n",
       "std                           2.945562     0.012410      0.015347   \n",
       "min                           0.000000    24.932070    121.473530   \n",
       "25%                           1.000000    24.963000    121.528085   \n",
       "50%                           4.000000    24.971100    121.538630   \n",
       "75%                           6.000000    24.977455    121.543305   \n",
       "max                          10.000000    25.014590    121.566270   \n",
       "\n",
       "       Y house price of unit area  \n",
       "count                  414.000000  \n",
       "mean                    37.980193  \n",
       "std                     13.606488  \n",
       "min                      7.600000  \n",
       "25%                     27.700000  \n",
       "50%                     38.450000  \n",
       "75%                     46.600000  \n",
       "max                    117.500000  "
      ]
     },
     "execution_count": 75,
     "metadata": {},
     "output_type": "execute_result"
    }
   ],
   "source": [
    "# 3\n",
    "df.describe()"
   ]
  },
  {
   "cell_type": "code",
   "execution_count": 76,
   "metadata": {
    "colab": {
     "base_uri": "https://localhost:8080/",
     "height": 206
    },
    "id": "v1scoJ2bFraH",
    "outputId": "d2e4f8d1-bb95-4ad3-9d25-afd119922c2c"
   },
   "outputs": [
    {
     "data": {
      "text/html": [
       "<div>\n",
       "<style scoped>\n",
       "    .dataframe tbody tr th:only-of-type {\n",
       "        vertical-align: middle;\n",
       "    }\n",
       "\n",
       "    .dataframe tbody tr th {\n",
       "        vertical-align: top;\n",
       "    }\n",
       "\n",
       "    .dataframe thead th {\n",
       "        text-align: right;\n",
       "    }\n",
       "</style>\n",
       "<table border=\"1\" class=\"dataframe\">\n",
       "  <thead>\n",
       "    <tr style=\"text-align: right;\">\n",
       "      <th></th>\n",
       "      <th>transaction date</th>\n",
       "      <th>house age</th>\n",
       "      <th>distance to the nearest MRT station</th>\n",
       "      <th>number of convenience stores</th>\n",
       "      <th>latitude</th>\n",
       "      <th>longitude</th>\n",
       "      <th>house price of unit area</th>\n",
       "    </tr>\n",
       "  </thead>\n",
       "  <tbody>\n",
       "    <tr>\n",
       "      <th>0</th>\n",
       "      <td>2012.917</td>\n",
       "      <td>32.0</td>\n",
       "      <td>84.87882</td>\n",
       "      <td>10</td>\n",
       "      <td>24.98298</td>\n",
       "      <td>121.54024</td>\n",
       "      <td>37.9</td>\n",
       "    </tr>\n",
       "    <tr>\n",
       "      <th>1</th>\n",
       "      <td>2012.917</td>\n",
       "      <td>19.5</td>\n",
       "      <td>306.59470</td>\n",
       "      <td>9</td>\n",
       "      <td>24.98034</td>\n",
       "      <td>121.53951</td>\n",
       "      <td>42.2</td>\n",
       "    </tr>\n",
       "    <tr>\n",
       "      <th>2</th>\n",
       "      <td>2013.583</td>\n",
       "      <td>13.3</td>\n",
       "      <td>561.98450</td>\n",
       "      <td>5</td>\n",
       "      <td>24.98746</td>\n",
       "      <td>121.54391</td>\n",
       "      <td>47.3</td>\n",
       "    </tr>\n",
       "    <tr>\n",
       "      <th>3</th>\n",
       "      <td>2013.500</td>\n",
       "      <td>13.3</td>\n",
       "      <td>561.98450</td>\n",
       "      <td>5</td>\n",
       "      <td>24.98746</td>\n",
       "      <td>121.54391</td>\n",
       "      <td>54.8</td>\n",
       "    </tr>\n",
       "    <tr>\n",
       "      <th>4</th>\n",
       "      <td>2012.833</td>\n",
       "      <td>5.0</td>\n",
       "      <td>390.56840</td>\n",
       "      <td>5</td>\n",
       "      <td>24.97937</td>\n",
       "      <td>121.54245</td>\n",
       "      <td>43.1</td>\n",
       "    </tr>\n",
       "  </tbody>\n",
       "</table>\n",
       "</div>"
      ],
      "text/plain": [
       "   transaction date  house age  distance to the nearest MRT station  \\\n",
       "0          2012.917       32.0                             84.87882   \n",
       "1          2012.917       19.5                            306.59470   \n",
       "2          2013.583       13.3                            561.98450   \n",
       "3          2013.500       13.3                            561.98450   \n",
       "4          2012.833        5.0                            390.56840   \n",
       "\n",
       "   number of convenience stores  latitude  longitude  house price of unit area  \n",
       "0                            10  24.98298  121.54024                      37.9  \n",
       "1                             9  24.98034  121.53951                      42.2  \n",
       "2                             5  24.98746  121.54391                      47.3  \n",
       "3                             5  24.98746  121.54391                      54.8  \n",
       "4                             5  24.97937  121.54245                      43.1  "
      ]
     },
     "execution_count": 76,
     "metadata": {},
     "output_type": "execute_result"
    }
   ],
   "source": [
    "# 4\n",
    "df_drop = df.drop(columns=['No'])\n",
    "df_drop.columns = ['transaction date', 'house age', 'distance to the nearest MRT station', 'number of convenience stores', 'latitude', 'longitude', 'house price of unit area']\n",
    "df_drop.head()"
   ]
  },
  {
   "cell_type": "code",
   "execution_count": 77,
   "metadata": {
    "colab": {
     "base_uri": "https://localhost:8080/",
     "height": 304
    },
    "id": "O_EVut8-GE7b",
    "outputId": "b64aac05-96e3-423d-ac17-a06bb9316fe0"
   },
   "outputs": [
    {
     "name": "stdout",
     "output_type": "stream",
     "text": [
      "transaction date                       0\n",
      "house age                              0\n",
      "distance to the nearest MRT station    0\n",
      "number of convenience stores           0\n",
      "latitude                               0\n",
      "longitude                              0\n",
      "house price of unit area               0\n",
      "dtype: int64\n"
     ]
    }
   ],
   "source": [
    "# 5\n",
    "print(df_drop.isnull().sum())"
   ]
  },
  {
   "cell_type": "markdown",
   "metadata": {
    "id": "0USQVpcWuJTz"
   },
   "source": [
    "## **Goodluck :)**\n"
   ]
  }
 ],
 "metadata": {
  "colab": {
   "provenance": []
  },
  "kernelspec": {
   "display_name": "Python 3 (ipykernel)",
   "language": "python",
   "name": "python3"
  },
  "language_info": {
   "codemirror_mode": {
    "name": "ipython",
    "version": 3
   },
   "file_extension": ".py",
   "mimetype": "text/x-python",
   "name": "python",
   "nbconvert_exporter": "python",
   "pygments_lexer": "ipython3",
   "version": "3.11.4"
  }
 },
 "nbformat": 4,
 "nbformat_minor": 1
}
